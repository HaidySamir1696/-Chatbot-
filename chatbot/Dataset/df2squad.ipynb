{
  "nbformat": 4,
  "nbformat_minor": 0,
  "metadata": {
    "colab": {
      "name": "df2squad.ipynb",
      "provenance": [],
      "collapsed_sections": []
    },
    "kernelspec": {
      "name": "python3",
      "display_name": "Python 3"
    }
  },
  "cells": [
    {
      "cell_type": "code",
      "metadata": {
        "id": "8ZUjlgzcfBPU",
        "colab_type": "code",
        "colab": {
          "base_uri": "https://localhost:8080/",
          "height": 666
        },
        "outputId": "9f9effce-edbd-451b-c9c8-264734635a5c"
      },
      "source": [
        "!pip install cdqa"
      ],
      "execution_count": 1,
      "outputs": [
        {
          "output_type": "stream",
          "text": [
            "Requirement already satisfied: cdqa in /usr/local/lib/python3.6/dist-packages (1.3.9)\n",
            "Requirement already satisfied: joblib==0.13.2 in /usr/local/lib/python3.6/dist-packages (from cdqa) (0.13.2)\n",
            "Requirement already satisfied: wget==3.2 in /usr/local/lib/python3.6/dist-packages (from cdqa) (3.2)\n",
            "Requirement already satisfied: markdown==3.1.1 in /usr/local/lib/python3.6/dist-packages (from cdqa) (3.1.1)\n",
            "Requirement already satisfied: tika==1.19 in /usr/local/lib/python3.6/dist-packages (from cdqa) (1.19)\n",
            "Requirement already satisfied: transformers==2.1.1 in /usr/local/lib/python3.6/dist-packages (from cdqa) (2.1.1)\n",
            "Requirement already satisfied: prettytable==0.7.2 in /usr/local/lib/python3.6/dist-packages (from cdqa) (0.7.2)\n",
            "Requirement already satisfied: scikit-learn==0.21.2 in /usr/local/lib/python3.6/dist-packages (from cdqa) (0.21.2)\n",
            "Requirement already satisfied: tqdm==4.32.2 in /usr/local/lib/python3.6/dist-packages (from cdqa) (4.32.2)\n",
            "Requirement already satisfied: flask-cors==3.0.8 in /usr/local/lib/python3.6/dist-packages (from cdqa) (3.0.8)\n",
            "Requirement already satisfied: torch==1.2.0 in /usr/local/lib/python3.6/dist-packages (from cdqa) (1.2.0)\n",
            "Requirement already satisfied: Flask==1.1.1 in /usr/local/lib/python3.6/dist-packages (from cdqa) (1.1.1)\n",
            "Requirement already satisfied: pandas==0.25.0 in /usr/local/lib/python3.6/dist-packages (from cdqa) (0.25.0)\n",
            "Requirement already satisfied: setuptools>=36 in /usr/local/lib/python3.6/dist-packages (from markdown==3.1.1->cdqa) (46.4.0)\n",
            "Requirement already satisfied: requests in /usr/local/lib/python3.6/dist-packages (from tika==1.19->cdqa) (2.23.0)\n",
            "Requirement already satisfied: sacremoses in /usr/local/lib/python3.6/dist-packages (from transformers==2.1.1->cdqa) (0.0.43)\n",
            "Requirement already satisfied: numpy in /usr/local/lib/python3.6/dist-packages (from transformers==2.1.1->cdqa) (1.18.4)\n",
            "Requirement already satisfied: sentencepiece in /usr/local/lib/python3.6/dist-packages (from transformers==2.1.1->cdqa) (0.1.91)\n",
            "Requirement already satisfied: boto3 in /usr/local/lib/python3.6/dist-packages (from transformers==2.1.1->cdqa) (1.13.13)\n",
            "Requirement already satisfied: regex in /usr/local/lib/python3.6/dist-packages (from transformers==2.1.1->cdqa) (2019.12.20)\n",
            "Requirement already satisfied: scipy>=0.17.0 in /usr/local/lib/python3.6/dist-packages (from scikit-learn==0.21.2->cdqa) (1.4.1)\n",
            "Requirement already satisfied: Six in /usr/local/lib/python3.6/dist-packages (from flask-cors==3.0.8->cdqa) (1.12.0)\n",
            "Requirement already satisfied: Werkzeug>=0.15 in /usr/local/lib/python3.6/dist-packages (from Flask==1.1.1->cdqa) (1.0.1)\n",
            "Requirement already satisfied: Jinja2>=2.10.1 in /usr/local/lib/python3.6/dist-packages (from Flask==1.1.1->cdqa) (2.11.2)\n",
            "Requirement already satisfied: click>=5.1 in /usr/local/lib/python3.6/dist-packages (from Flask==1.1.1->cdqa) (7.1.2)\n",
            "Requirement already satisfied: itsdangerous>=0.24 in /usr/local/lib/python3.6/dist-packages (from Flask==1.1.1->cdqa) (1.1.0)\n",
            "Requirement already satisfied: python-dateutil>=2.6.1 in /usr/local/lib/python3.6/dist-packages (from pandas==0.25.0->cdqa) (2.8.1)\n",
            "Requirement already satisfied: pytz>=2017.2 in /usr/local/lib/python3.6/dist-packages (from pandas==0.25.0->cdqa) (2018.9)\n",
            "Requirement already satisfied: urllib3!=1.25.0,!=1.25.1,<1.26,>=1.21.1 in /usr/local/lib/python3.6/dist-packages (from requests->tika==1.19->cdqa) (1.24.3)\n",
            "Requirement already satisfied: certifi>=2017.4.17 in /usr/local/lib/python3.6/dist-packages (from requests->tika==1.19->cdqa) (2020.4.5.1)\n",
            "Requirement already satisfied: idna<3,>=2.5 in /usr/local/lib/python3.6/dist-packages (from requests->tika==1.19->cdqa) (2.9)\n",
            "Requirement already satisfied: chardet<4,>=3.0.2 in /usr/local/lib/python3.6/dist-packages (from requests->tika==1.19->cdqa) (3.0.4)\n",
            "Requirement already satisfied: jmespath<1.0.0,>=0.7.1 in /usr/local/lib/python3.6/dist-packages (from boto3->transformers==2.1.1->cdqa) (0.10.0)\n",
            "Requirement already satisfied: botocore<1.17.0,>=1.16.13 in /usr/local/lib/python3.6/dist-packages (from boto3->transformers==2.1.1->cdqa) (1.16.13)\n",
            "Requirement already satisfied: s3transfer<0.4.0,>=0.3.0 in /usr/local/lib/python3.6/dist-packages (from boto3->transformers==2.1.1->cdqa) (0.3.3)\n",
            "Requirement already satisfied: MarkupSafe>=0.23 in /usr/local/lib/python3.6/dist-packages (from Jinja2>=2.10.1->Flask==1.1.1->cdqa) (1.1.1)\n",
            "Requirement already satisfied: docutils<0.16,>=0.10 in /usr/local/lib/python3.6/dist-packages (from botocore<1.17.0,>=1.16.13->boto3->transformers==2.1.1->cdqa) (0.15.2)\n"
          ],
          "name": "stdout"
        }
      ]
    },
    {
      "cell_type": "code",
      "metadata": {
        "id": "X5bXRIvAhnU4",
        "colab_type": "code",
        "colab": {
          "base_uri": "https://localhost:8080/",
          "height": 34
        },
        "outputId": "383243f7-5d4b-4e06-f15e-d5189b0e5762"
      },
      "source": [
        "import os\n",
        "import wget\n",
        "def download_pdf():\n",
        "  directory = './data/pdf/'\n",
        "  models_url = [\n",
        "                'https://invest.bnpparibas.com/documents/1q19-pr-12648',\n",
        "                'https://invest.bnpparibas.com/documents/4q18-pr-18000',\n",
        "                'https://invest.bnpparibas.com/documents/4q17-pr',\n",
        "  ]  \n",
        "  print('\\\\nDownloading PDF files...')\n",
        "  if not os.path.exists(directory):\n",
        "    os.makedirs(directory)\n",
        "  for url in models_url:\n",
        "    wget.download(url=url, out=directory)\n",
        "\n",
        "download_pdf()"
      ],
      "execution_count": 2,
      "outputs": [
        {
          "output_type": "stream",
          "text": [
            "\\nDownloading PDF files...\n"
          ],
          "name": "stdout"
        }
      ]
    },
    {
      "cell_type": "code",
      "metadata": {
        "id": "3EL1--z9hYG6",
        "colab_type": "code",
        "colab": {
          "base_uri": "https://localhost:8080/",
          "height": 34
        },
        "outputId": "aa7bbd3c-8937-49fa-dede-d25b05136dc3"
      },
      "source": [
        "from cdqa.utils.converters import df2squad\n",
        "# Converting dataframe to SQuAD format\n",
        "from cdqa.utils.converters import pdf_converter\n",
        "df = pdf_converter(directory_path='./data/pdf')\n",
        "json_data = df2squad(df = df, squad_version='v1.1', output_dir='./data', filename='i2c')"
      ],
      "execution_count": 8,
      "outputs": [
        {
          "output_type": "stream",
          "text": [
            "1it [00:00, 666.93it/s]\n"
          ],
          "name": "stderr"
        }
      ]
    }
  ]
}