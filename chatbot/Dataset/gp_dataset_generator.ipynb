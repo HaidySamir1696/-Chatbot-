{
  "nbformat": 4,
  "nbformat_minor": 0,
  "metadata": {
    "colab": {
      "name": "gp_dataset_generator.ipynb",
      "provenance": []
    },
    "kernelspec": {
      "name": "python3",
      "display_name": "Python 3"
    },
    "accelerator": "GPU"
  },
  "cells": [
    {
      "cell_type": "code",
      "metadata": {
        "id": "wsQm6QSbZF--",
        "colab_type": "code",
        "outputId": "6d919c48-4ffc-4e94-ad3b-b786448c9f02",
        "colab": {
          "base_uri": "https://localhost:8080/",
          "height": 119
        }
      },
      "source": [
        "!git clone https://github.com/facebookresearch/UnsupervisedQA.git"
      ],
      "execution_count": 0,
      "outputs": [
        {
          "output_type": "stream",
          "text": [
            "Cloning into 'UnsupervisedQA'...\n",
            "remote: Enumerating objects: 53, done.\u001b[K\n",
            "remote: Counting objects:   1% (1/53)\u001b[K\rremote: Counting objects:   3% (2/53)\u001b[K\rremote: Counting objects:   5% (3/53)\u001b[K\rremote: Counting objects:   7% (4/53)\u001b[K\rremote: Counting objects:   9% (5/53)\u001b[K\rremote: Counting objects:  11% (6/53)\u001b[K\rremote: Counting objects:  13% (7/53)\u001b[K\rremote: Counting objects:  15% (8/53)\u001b[K\rremote: Counting objects:  16% (9/53)\u001b[K\rremote: Counting objects:  18% (10/53)\u001b[K\rremote: Counting objects:  20% (11/53)\u001b[K\rremote: Counting objects:  22% (12/53)\u001b[K\rremote: Counting objects:  24% (13/53)\u001b[K\rremote: Counting objects:  26% (14/53)\u001b[K\rremote: Counting objects:  28% (15/53)\u001b[K\rremote: Counting objects:  30% (16/53)\u001b[K\rremote: Counting objects:  32% (17/53)\u001b[K\rremote: Counting objects:  33% (18/53)\u001b[K\rremote: Counting objects:  35% (19/53)\u001b[K\rremote: Counting objects:  37% (20/53)\u001b[K\rremote: Counting objects:  39% (21/53)\u001b[K\rremote: Counting objects:  41% (22/53)\u001b[K\rremote: Counting objects:  43% (23/53)\u001b[K\rremote: Counting objects:  45% (24/53)\u001b[K\rremote: Counting objects:  47% (25/53)\u001b[K\rremote: Counting objects:  49% (26/53)\u001b[K\rremote: Counting objects:  50% (27/53)\u001b[K\rremote: Counting objects:  52% (28/53)\u001b[K\rremote: Counting objects:  54% (29/53)\u001b[K\rremote: Counting objects:  56% (30/53)\u001b[K\rremote: Counting objects:  58% (31/53)\u001b[K\rremote: Counting objects:  60% (32/53)\u001b[K\rremote: Counting objects:  62% (33/53)\u001b[K\rremote: Counting objects:  64% (34/53)\u001b[K\rremote: Counting objects:  66% (35/53)\u001b[K\rremote: Counting objects:  67% (36/53)\u001b[K\rremote: Counting objects:  69% (37/53)\u001b[K\rremote: Counting objects:  71% (38/53)\u001b[K\rremote: Counting objects:  73% (39/53)\u001b[K\rremote: Counting objects:  75% (40/53)\u001b[K\rremote: Counting objects:  77% (41/53)\u001b[K\rremote: Counting objects:  79% (42/53)\u001b[K\rremote: Counting objects:  81% (43/53)\u001b[K\rremote: Counting objects:  83% (44/53)\u001b[K\rremote: Counting objects:  84% (45/53)\u001b[K\rremote: Counting objects:  86% (46/53)\u001b[K\rremote: Counting objects:  88% (47/53)\u001b[K\rremote: Counting objects:  90% (48/53)\u001b[K\rremote: Counting objects:  92% (49/53)\u001b[K\rremote: Counting objects:  94% (50/53)\u001b[K\rremote: Counting objects:  96% (51/53)\u001b[K\rremote: Counting objects:  98% (52/53)\u001b[K\rremote: Counting objects: 100% (53/53)\u001b[K\rremote: Counting objects: 100% (53/53), done.\u001b[K\n",
            "remote: Compressing objects:   2% (1/43)\u001b[K\rremote: Compressing objects:   4% (2/43)\u001b[K\rremote: Compressing objects:   6% (3/43)\u001b[K\rremote: Compressing objects:   9% (4/43)\u001b[K\rremote: Compressing objects:  11% (5/43)\u001b[K\rremote: Compressing objects:  13% (6/43)\u001b[K\rremote: Compressing objects:  16% (7/43)\u001b[K\rremote: Compressing objects:  18% (8/43)\u001b[K\rremote: Compressing objects:  20% (9/43)\u001b[K\rremote: Compressing objects:  23% (10/43)\u001b[K\rremote: Compressing objects:  25% (11/43)\u001b[K\rremote: Compressing objects:  27% (12/43)\u001b[K\rremote: Compressing objects:  30% (13/43)\u001b[K\rremote: Compressing objects:  32% (14/43)\u001b[K\rremote: Compressing objects:  34% (15/43)\u001b[K\rremote: Compressing objects:  37% (16/43)\u001b[K\rremote: Compressing objects:  39% (17/43)\u001b[K\rremote: Compressing objects:  41% (18/43)\u001b[K\rremote: Compressing objects:  44% (19/43)\u001b[K\rremote: Compressing objects:  46% (20/43)\u001b[K\rremote: Compressing objects:  48% (21/43)\u001b[K\rremote: Compressing objects:  51% (22/43)\u001b[K\rremote: Compressing objects:  53% (23/43)\u001b[K\rremote: Compressing objects:  55% (24/43)\u001b[K\rremote: Compressing objects:  58% (25/43)\u001b[K\rremote: Compressing objects:  60% (26/43)\u001b[K\rremote: Compressing objects:  62% (27/43)\u001b[K\rremote: Compressing objects:  65% (28/43)\u001b[K\rremote: Compressing objects:  67% (29/43)\u001b[K\rremote: Compressing objects:  69% (30/43)\u001b[K\rremote: Compressing objects:  72% (31/43)\u001b[K\rremote: Compressing objects:  74% (32/43)\u001b[K\rremote: Compressing objects:  76% (33/43)\u001b[K\rremote: Compressing objects:  79% (34/43)\u001b[K\rremote: Compressing objects:  81% (35/43)\u001b[K\rremote: Compressing objects:  83% (36/43)\u001b[K\rremote: Compressing objects:  86% (37/43)\u001b[K\rremote: Compressing objects:  88% (38/43)\u001b[K\rremote: Compressing objects:  90% (39/43)\u001b[K\rremote: Compressing objects:  93% (40/43)\u001b[K\rremote: Compressing objects:  95% (41/43)\u001b[K\rremote: Compressing objects:  97% (42/43)\u001b[K\rremote: Compressing objects: 100% (43/43)\u001b[K\rremote: Compressing objects: 100% (43/43), done.\u001b[K\n",
            "remote: Total 53 (delta 20), reused 43 (delta 10), pack-reused 0\u001b[K\n",
            "Unpacking objects:   1% (1/53)   \rUnpacking objects:   3% (2/53)   \rUnpacking objects:   5% (3/53)   \rUnpacking objects:   7% (4/53)   \rUnpacking objects:   9% (5/53)   \rUnpacking objects:  11% (6/53)   \rUnpacking objects:  13% (7/53)   \rUnpacking objects:  15% (8/53)   \rUnpacking objects:  16% (9/53)   \rUnpacking objects:  18% (10/53)   \rUnpacking objects:  20% (11/53)   \rUnpacking objects:  22% (12/53)   \rUnpacking objects:  24% (13/53)   \rUnpacking objects:  26% (14/53)   \rUnpacking objects:  28% (15/53)   \rUnpacking objects:  30% (16/53)   \rUnpacking objects:  32% (17/53)   \rUnpacking objects:  33% (18/53)   \rUnpacking objects:  35% (19/53)   \rUnpacking objects:  37% (20/53)   \rUnpacking objects:  39% (21/53)   \rUnpacking objects:  41% (22/53)   \rUnpacking objects:  43% (23/53)   \rUnpacking objects:  45% (24/53)   \rUnpacking objects:  47% (25/53)   \rUnpacking objects:  49% (26/53)   \rUnpacking objects:  50% (27/53)   \rUnpacking objects:  52% (28/53)   \rUnpacking objects:  54% (29/53)   \rUnpacking objects:  56% (30/53)   \rUnpacking objects:  58% (31/53)   \rUnpacking objects:  60% (32/53)   \rUnpacking objects:  62% (33/53)   \rUnpacking objects:  64% (34/53)   \rUnpacking objects:  66% (35/53)   \rUnpacking objects:  67% (36/53)   \rUnpacking objects:  69% (37/53)   \rUnpacking objects:  71% (38/53)   \rUnpacking objects:  73% (39/53)   \rUnpacking objects:  75% (40/53)   \rUnpacking objects:  77% (41/53)   \rUnpacking objects:  79% (42/53)   \rUnpacking objects:  81% (43/53)   \rUnpacking objects:  83% (44/53)   \rUnpacking objects:  84% (45/53)   \rUnpacking objects:  86% (46/53)   \rUnpacking objects:  88% (47/53)   \rUnpacking objects:  90% (48/53)   \rUnpacking objects:  92% (49/53)   \rUnpacking objects:  94% (50/53)   \rUnpacking objects:  96% (51/53)   \rUnpacking objects:  98% (52/53)   \rUnpacking objects: 100% (53/53)   \rUnpacking objects: 100% (53/53), done.\n"
          ],
          "name": "stdout"
        }
      ]
    },
    {
      "cell_type": "code",
      "metadata": {
        "id": "-AjY4nGKZOj4",
        "colab_type": "code",
        "outputId": "32784617-12cc-44e5-d879-3f7e00f444c6",
        "colab": {
          "base_uri": "https://localhost:8080/",
          "height": 34
        }
      },
      "source": [
        "cd UnsupervisedQA"
      ],
      "execution_count": 0,
      "outputs": [
        {
          "output_type": "stream",
          "text": [
            "/content/UnsupervisedQA\n"
          ],
          "name": "stdout"
        }
      ]
    },
    {
      "cell_type": "code",
      "metadata": {
        "id": "8dK6gxajZSFT",
        "colab_type": "code",
        "outputId": "5839b20a-e320-466e-a029-4d85d94ff0ca",
        "colab": {
          "base_uri": "https://localhost:8080/",
          "height": 173
        }
      },
      "source": [
        "!pip install -r requirements.txt"
      ],
      "execution_count": 0,
      "outputs": [
        {
          "output_type": "stream",
          "text": [
            "Collecting nltk==3.4.5\n",
            "\u001b[?25l  Downloading https://files.pythonhosted.org/packages/f6/1d/d925cfb4f324ede997f6d47bea4d9babba51b49e87a767c170b77005889d/nltk-3.4.5.zip (1.5MB)\n",
            "\r\u001b[K     |▎                               | 10kB 22.5MB/s eta 0:00:01\r\u001b[K     |▌                               | 20kB 29.5MB/s eta 0:00:01\r\u001b[K     |▊                               | 30kB 34.5MB/s eta 0:00:01\r\u001b[K     |█                               | 40kB 37.3MB/s eta 0:00:01\r\u001b[K     |█▏                              | 51kB 36.8MB/s eta 0:00:01\r\u001b[K     |█▍                              | 61kB 39.1MB/s eta 0:00:01\r\u001b[K     |█▋                              | 71kB 31.6MB/s eta 0:00:01\r\u001b[K     |█▉                              | 81kB 32.8MB/s eta 0:00:01\r\u001b[K     |██                              | 92kB 34.3MB/s eta 0:00:01\r\u001b[K     |██▎                             | 102kB 32.5MB/s eta 0:00:01\r\u001b[K     |██▌                             | 112kB 32.5MB/s eta 0:00:01\r\u001b[K     |██▊                             | 122kB 32.5MB/s eta 0:00:01\r\u001b[K     |███                             | 133kB 32.5MB/s eta 0:00:01\r\u001b[K     |███▏                            | 143kB 32.5MB/s eta 0:00:01\r\u001b[K     |███▍                            | 153kB 32.5MB/s eta 0:00:01\r\u001b[K     |███▋                            | 163kB 32.5MB/s eta 0:00:01\r\u001b[K     |███▉                            | 174kB 32.5MB/s eta 0:00:01\r\u001b[K     |████                            | 184kB 32.5MB/s eta 0:00:01\r\u001b[K     |████▎                           | 194kB 32.5MB/s eta 0:00:01\r\u001b[K     |████▌                           | 204kB 32.5MB/s eta 0:00:01\r\u001b[K     |████▊                           | 215kB 32.5MB/s eta 0:00:01\r\u001b[K     |█████                           | 225kB 32.5MB/s eta 0:00:01\r\u001b[K     |█████▏                          | 235kB 32.5MB/s eta 0:00:01\r\u001b[K     |█████▍                          | 245kB 32.5MB/s eta 0:00:01\r\u001b[K     |█████▋                          | 256kB 32.5MB/s eta 0:00:01\r\u001b[K     |█████▉                          | 266kB 32.5MB/s eta 0:00:01\r\u001b[K     |██████                          | 276kB 32.5MB/s eta 0:00:01\r\u001b[K     |██████▎                         | 286kB 32.5MB/s eta 0:00:01\r\u001b[K     |██████▌                         | 296kB 32.5MB/s eta 0:00:01\r\u001b[K     |██████▊                         | 307kB 32.5MB/s eta 0:00:01\r\u001b[K     |███████                         | 317kB 32.5MB/s eta 0:00:01\r\u001b[K     |███████▎                        | 327kB 32.5MB/s eta 0:00:01\r\u001b[K     |███████▌                        | 337kB 32.5MB/s eta 0:00:01\r\u001b[K     |███████▊                        | 348kB 32.5MB/s eta 0:00:01\r\u001b[K     |████████                        | 358kB 32.5MB/s eta 0:00:01\r\u001b[K     |████████▏                       | 368kB 32.5MB/s eta 0:00:01\r\u001b[K     |████████▍                       | 378kB 32.5MB/s eta 0:00:01\r\u001b[K     |████████▋                       | 389kB 32.5MB/s eta 0:00:01\r\u001b[K     |████████▉                       | 399kB 32.5MB/s eta 0:00:01\r\u001b[K     |█████████                       | 409kB 32.5MB/s eta 0:00:01\r\u001b[K     |█████████▎                      | 419kB 32.5MB/s eta 0:00:01\r\u001b[K     |█████████▌                      | 430kB 32.5MB/s eta 0:00:01\r\u001b[K     |█████████▊                      | 440kB 32.5MB/s eta 0:00:01\r\u001b[K     |██████████                      | 450kB 32.5MB/s eta 0:00:01\r\u001b[K     |██████████▏                     | 460kB 32.5MB/s eta 0:00:01\r\u001b[K     |██████████▍                     | 471kB 32.5MB/s eta 0:00:01\r\u001b[K     |██████████▋                     | 481kB 32.5MB/s eta 0:00:01\r\u001b[K     |██████████▉                     | 491kB 32.5MB/s eta 0:00:01\r\u001b[K     |███████████                     | 501kB 32.5MB/s eta 0:00:01\r\u001b[K     |███████████▎                    | 512kB 32.5MB/s eta 0:00:01\r\u001b[K     |███████████▌                    | 522kB 32.5MB/s eta 0:00:01\r\u001b[K     |███████████▊                    | 532kB 32.5MB/s eta 0:00:01\r\u001b[K     |████████████                    | 542kB 32.5MB/s eta 0:00:01\r\u001b[K     |████████████▏                   | 552kB 32.5MB/s eta 0:00:01\r\u001b[K     |████████████▍                   | 563kB 32.5MB/s eta 0:00:01\r\u001b[K     |████████████▋                   | 573kB 32.5MB/s eta 0:00:01\r\u001b[K     |████████████▉                   | 583kB 32.5MB/s eta 0:00:01\r\u001b[K     |█████████████                   | 593kB 32.5MB/s eta 0:00:01\r\u001b[K     |█████████████▎                  | 604kB 32.5MB/s eta 0:00:01\r\u001b[K     |█████████████▌                  | 614kB 32.5MB/s eta 0:00:01\r\u001b[K     |█████████████▉                  | 624kB 32.5MB/s eta 0:00:01\r\u001b[K     |██████████████                  | 634kB 32.5MB/s eta 0:00:01\r\u001b[K     |██████████████▎                 | 645kB 32.5MB/s eta 0:00:01\r\u001b[K     |██████████████▌                 | 655kB 32.5MB/s eta 0:00:01\r\u001b[K     |██████████████▊                 | 665kB 32.5MB/s eta 0:00:01\r\u001b[K     |███████████████                 | 675kB 32.5MB/s eta 0:00:01\r\u001b[K     |███████████████▏                | 686kB 32.5MB/s eta 0:00:01\r\u001b[K     |███████████████▍                | 696kB 32.5MB/s eta 0:00:01\r\u001b[K     |███████████████▋                | 706kB 32.5MB/s eta 0:00:01\r\u001b[K     |███████████████▉                | 716kB 32.5MB/s eta 0:00:01\r\u001b[K     |████████████████                | 727kB 32.5MB/s eta 0:00:01\r\u001b[K     |████████████████▎               | 737kB 32.5MB/s eta 0:00:01\r\u001b[K     |████████████████▌               | 747kB 32.5MB/s eta 0:00:01\r\u001b[K     |████████████████▊               | 757kB 32.5MB/s eta 0:00:01\r\u001b[K     |█████████████████               | 768kB 32.5MB/s eta 0:00:01\r\u001b[K     |█████████████████▏              | 778kB 32.5MB/s eta 0:00:01\r\u001b[K     |█████████████████▍              | 788kB 32.5MB/s eta 0:00:01\r\u001b[K     |█████████████████▋              | 798kB 32.5MB/s eta 0:00:01\r\u001b[K     |█████████████████▉              | 808kB 32.5MB/s eta 0:00:01\r\u001b[K     |██████████████████              | 819kB 32.5MB/s eta 0:00:01\r\u001b[K     |██████████████████▎             | 829kB 32.5MB/s eta 0:00:01\r\u001b[K     |██████████████████▌             | 839kB 32.5MB/s eta 0:00:01\r\u001b[K     |██████████████████▊             | 849kB 32.5MB/s eta 0:00:01\r\u001b[K     |███████████████████             | 860kB 32.5MB/s eta 0:00:01\r\u001b[K     |███████████████████▏            | 870kB 32.5MB/s eta 0:00:01\r\u001b[K     |███████████████████▍            | 880kB 32.5MB/s eta 0:00:01\r\u001b[K     |███████████████████▋            | 890kB 32.5MB/s eta 0:00:01\r\u001b[K     |███████████████████▉            | 901kB 32.5MB/s eta 0:00:01\r\u001b[K     |████████████████████            | 911kB 32.5MB/s eta 0:00:01\r\u001b[K     |████████████████████▎           | 921kB 32.5MB/s eta 0:00:01\r\u001b[K     |████████████████████▋           | 931kB 32.5MB/s eta 0:00:01\r\u001b[K     |████████████████████▉           | 942kB 32.5MB/s eta 0:00:01\r\u001b[K     |█████████████████████           | 952kB 32.5MB/s eta 0:00:01\r\u001b[K     |█████████████████████▎          | 962kB 32.5MB/s eta 0:00:01\r\u001b[K     |█████████████████████▌          | 972kB 32.5MB/s eta 0:00:01\r\u001b[K     |█████████████████████▊          | 983kB 32.5MB/s eta 0:00:01\r\u001b[K     |██████████████████████          | 993kB 32.5MB/s eta 0:00:01\r\u001b[K     |██████████████████████▏         | 1.0MB 32.5MB/s eta 0:00:01\r\u001b[K     |██████████████████████▍         | 1.0MB 32.5MB/s eta 0:00:01\r\u001b[K     |██████████████████████▋         | 1.0MB 32.5MB/s eta 0:00:01\r\u001b[K     |██████████████████████▉         | 1.0MB 32.5MB/s eta 0:00:01\r\u001b[K     |███████████████████████         | 1.0MB 32.5MB/s eta 0:00:01\r\u001b[K     |███████████████████████▎        | 1.1MB 32.5MB/s eta 0:00:01\r\u001b[K     |███████████████████████▌        | 1.1MB 32.5MB/s eta 0:00:01\r\u001b[K     |███████████████████████▊        | 1.1MB 32.5MB/s eta 0:00:01\r\u001b[K     |████████████████████████        | 1.1MB 32.5MB/s eta 0:00:01\r\u001b[K     |████████████████████████▏       | 1.1MB 32.5MB/s eta 0:00:01\r\u001b[K     |████████████████████████▍       | 1.1MB 32.5MB/s eta 0:00:01\r\u001b[K     |████████████████████████▋       | 1.1MB 32.5MB/s eta 0:00:01\r\u001b[K     |████████████████████████▉       | 1.1MB 32.5MB/s eta 0:00:01\r\u001b[K     |█████████████████████████       | 1.1MB 32.5MB/s eta 0:00:01\r\u001b[K     |█████████████████████████▎      | 1.1MB 32.5MB/s eta 0:00:01\r\u001b[K     |█████████████████████████▌      | 1.2MB 32.5MB/s eta 0:00:01\r\u001b[K     |█████████████████████████▊      | 1.2MB 32.5MB/s eta 0:00:01\r\u001b[K     |██████████████████████████      | 1.2MB 32.5MB/s eta 0:00:01\r\u001b[K     |██████████████████████████▏     | 1.2MB 32.5MB/s eta 0:00:01\r\u001b[K     |██████████████████████████▍     | 1.2MB 32.5MB/s eta 0:00:01\r\u001b[K     |██████████████████████████▋     | 1.2MB 32.5MB/s eta 0:00:01\r\u001b[K     |██████████████████████████▉     | 1.2MB 32.5MB/s eta 0:00:01\r\u001b[K     |███████████████████████████     | 1.2MB 32.5MB/s eta 0:00:01\r\u001b[K     |███████████████████████████▍    | 1.2MB 32.5MB/s eta 0:00:01\r\u001b[K     |███████████████████████████▋    | 1.2MB 32.5MB/s eta 0:00:01\r\u001b[K     |███████████████████████████▉    | 1.3MB 32.5MB/s eta 0:00:01\r\u001b[K     |████████████████████████████    | 1.3MB 32.5MB/s eta 0:00:01\r\u001b[K     |████████████████████████████▎   | 1.3MB 32.5MB/s eta 0:00:01\r\u001b[K     |████████████████████████████▌   | 1.3MB 32.5MB/s eta 0:00:01\r\u001b[K     |████████████████████████████▊   | 1.3MB 32.5MB/s eta 0:00:01\r\u001b[K     |█████████████████████████████   | 1.3MB 32.5MB/s eta 0:00:01\r\u001b[K     |█████████████████████████████▏  | 1.3MB 32.5MB/s eta 0:00:01\r\u001b[K     |█████████████████████████████▍  | 1.3MB 32.5MB/s eta 0:00:01\r\u001b[K     |█████████████████████████████▋  | 1.3MB 32.5MB/s eta 0:00:01\r\u001b[K     |█████████████████████████████▉  | 1.4MB 32.5MB/s eta 0:00:01\r\u001b[K     |██████████████████████████████  | 1.4MB 32.5MB/s eta 0:00:01\r\u001b[K     |██████████████████████████████▎ | 1.4MB 32.5MB/s eta 0:00:01\r\u001b[K     |██████████████████████████████▌ | 1.4MB 32.5MB/s eta 0:00:01\r\u001b[K     |██████████████████████████████▊ | 1.4MB 32.5MB/s eta 0:00:01\r\u001b[K     |███████████████████████████████ | 1.4MB 32.5MB/s eta 0:00:01\r\u001b[K     |███████████████████████████████▏| 1.4MB 32.5MB/s eta 0:00:01\r\u001b[K     |███████████████████████████████▍| 1.4MB 32.5MB/s eta 0:00:01\r\u001b[K     |███████████████████████████████▋| 1.4MB 32.5MB/s eta 0:00:01\r\u001b[K     |███████████████████████████████▉| 1.4MB 32.5MB/s eta 0:00:01\r\u001b[K     |████████████████████████████████| 1.5MB 32.5MB/s \n",
            "\u001b[?25hCollecting numpy==1.15.4\n",
            "\u001b[?25l  Downloading https://files.pythonhosted.org/packages/ff/7f/9d804d2348471c67a7d8b5f84f9bc59fd1cefa148986f2b74552f8573555/numpy-1.15.4-cp36-cp36m-manylinux1_x86_64.whl (13.9MB)\n",
            "\u001b[K     |████████████████████████████████| 13.9MB 220kB/s \n",
            "\u001b[31mERROR: Could not find a version that satisfies the requirement torch==0.4.1.post2 (from -r requirements.txt (line 3)) (from versions: 0.1.2, 0.1.2.post1, 0.1.2.post2, 0.3.1, 0.4.0, 0.4.1, 1.0.0, 1.0.1, 1.0.1.post2, 1.1.0, 1.2.0, 1.3.0, 1.3.1, 1.4.0)\u001b[0m\n",
            "\u001b[31mERROR: No matching distribution found for torch==0.4.1.post2 (from -r requirements.txt (line 3))\u001b[0m\n",
            "\u001b[?25h"
          ],
          "name": "stdout"
        }
      ]
    },
    {
      "cell_type": "code",
      "metadata": {
        "id": "S84WvRhoZWD1",
        "colab_type": "code",
        "outputId": "7080e95e-e817-415c-f121-833c5fd5d5fa",
        "colab": {
          "base_uri": "https://localhost:8080/",
          "height": 1000
        }
      },
      "source": [
        "!./install_tools.sh"
      ],
      "execution_count": 0,
      "outputs": [
        {
          "output_type": "stream",
          "text": [
            "Cloning Unsupervised NMT from GitHub repository...\n",
            "Cloning into 'UnsupervisedMT'...\n",
            "remote: Enumerating objects: 111, done.\u001b[K\n",
            "remote: Total 111 (delta 0), reused 0 (delta 0), pack-reused 111\u001b[K\n",
            "Receiving objects: 100% (111/111), 278.08 KiB | 370.00 KiB/s, done.\n",
            "Resolving deltas: 100% (35/35), done.\n",
            "Unsupervised NMT found in: /content/UnsupervisedQA/UnsupervisedMT/NMT\n",
            "Cloning Moses from GitHub repository...\n",
            "Cloning into 'mosesdecoder'...\n",
            "remote: Enumerating objects: 30, done.\u001b[K\n",
            "remote: Counting objects: 100% (30/30), done.\u001b[K\n",
            "remote: Compressing objects: 100% (25/25), done.\u001b[K\n",
            "remote: Total 147544 (delta 12), reused 15 (delta 5), pack-reused 147514\u001b[K\n",
            "Receiving objects: 100% (147544/147544), 129.75 MiB | 12.53 MiB/s, done.\n",
            "Resolving deltas: 100% (113998/113998), done.\n",
            "Moses found in: /content/UnsupervisedQA/UnsupervisedMT/NMT/tools/mosesdecoder\n",
            "Cloning fastBPE from GitHub repository...\n",
            "Cloning into 'fastBPE'...\n",
            "remote: Enumerating objects: 5, done.\u001b[K\n",
            "remote: Counting objects: 100% (5/5), done.\u001b[K\n",
            "remote: Compressing objects: 100% (5/5), done.\u001b[K\n",
            "remote: Total 59 (delta 0), reused 1 (delta 0), pack-reused 54\u001b[K\n",
            "Unpacking objects: 100% (59/59), done.\n",
            "fastBPE found in: /content/UnsupervisedQA/UnsupervisedMT/NMT/tools/fastBPE\n",
            "Compiling fastBPE...\n",
            "fastBPE compiled in: /content/UnsupervisedQA/UnsupervisedMT/NMT/tools/fastBPE/fast\n",
            "Cloning fastText from GitHub repository...\n",
            "Cloning into 'fastText'...\n",
            "remote: Enumerating objects: 84, done.\u001b[K\n",
            "remote: Counting objects: 100% (84/84), done.\u001b[K\n",
            "remote: Compressing objects: 100% (61/61), done.\u001b[K\n",
            "remote: Total 3768 (delta 35), reused 46 (delta 15), pack-reused 3684\u001b[K\n",
            "Receiving objects: 100% (3768/3768), 8.20 MiB | 3.87 MiB/s, done.\n",
            "Resolving deltas: 100% (2354/2354), done.\n",
            "fastText found in: /content/UnsupervisedQA/UnsupervisedMT/NMT/tools/fastText\n",
            "Compiling fastText...\n",
            "c++ -pthread -std=c++11 -march=native -O3 -funroll-loops -DNDEBUG -c src/args.cc\n",
            "c++ -pthread -std=c++11 -march=native -O3 -funroll-loops -DNDEBUG -c src/autotune.cc\n",
            "c++ -pthread -std=c++11 -march=native -O3 -funroll-loops -DNDEBUG -c src/matrix.cc\n",
            "c++ -pthread -std=c++11 -march=native -O3 -funroll-loops -DNDEBUG -c src/dictionary.cc\n",
            "c++ -pthread -std=c++11 -march=native -O3 -funroll-loops -DNDEBUG -c src/loss.cc\n",
            "c++ -pthread -std=c++11 -march=native -O3 -funroll-loops -DNDEBUG -c src/productquantizer.cc\n",
            "c++ -pthread -std=c++11 -march=native -O3 -funroll-loops -DNDEBUG -c src/densematrix.cc\n",
            "c++ -pthread -std=c++11 -march=native -O3 -funroll-loops -DNDEBUG -c src/quantmatrix.cc\n",
            "c++ -pthread -std=c++11 -march=native -O3 -funroll-loops -DNDEBUG -c src/vector.cc\n",
            "c++ -pthread -std=c++11 -march=native -O3 -funroll-loops -DNDEBUG -c src/model.cc\n",
            "c++ -pthread -std=c++11 -march=native -O3 -funroll-loops -DNDEBUG -c src/utils.cc\n",
            "c++ -pthread -std=c++11 -march=native -O3 -funroll-loops -DNDEBUG -c src/meter.cc\n",
            "c++ -pthread -std=c++11 -march=native -O3 -funroll-loops -DNDEBUG -c src/fasttext.cc\n",
            "c++ -pthread -std=c++11 -march=native -O3 -funroll-loops -DNDEBUG args.o autotune.o matrix.o dictionary.o loss.o productquantizer.o densematrix.o quantmatrix.o vector.o model.o utils.o meter.o fasttext.o src/main.cc -o fasttext\n",
            "fastText compiled in: /content/UnsupervisedQA/UnsupervisedMT/NMT/tools/fastText/fasttext\n",
            "Downloading spacy model\n",
            "Requirement already satisfied: en_core_web_sm==2.2.5 from https://github.com/explosion/spacy-models/releases/download/en_core_web_sm-2.2.5/en_core_web_sm-2.2.5.tar.gz#egg=en_core_web_sm==2.2.5 in /usr/local/lib/python3.6/dist-packages (2.2.5)\n",
            "Requirement already satisfied: spacy>=2.2.2 in /usr/local/lib/python3.6/dist-packages (from en_core_web_sm==2.2.5) (2.2.4)\n",
            "Requirement already satisfied: requests<3.0.0,>=2.13.0 in /usr/local/lib/python3.6/dist-packages (from spacy>=2.2.2->en_core_web_sm==2.2.5) (2.21.0)\n",
            "Requirement already satisfied: cymem<2.1.0,>=2.0.2 in /usr/local/lib/python3.6/dist-packages (from spacy>=2.2.2->en_core_web_sm==2.2.5) (2.0.3)\n",
            "Requirement already satisfied: preshed<3.1.0,>=3.0.2 in /usr/local/lib/python3.6/dist-packages (from spacy>=2.2.2->en_core_web_sm==2.2.5) (3.0.2)\n",
            "Requirement already satisfied: catalogue<1.1.0,>=0.0.7 in /usr/local/lib/python3.6/dist-packages (from spacy>=2.2.2->en_core_web_sm==2.2.5) (1.0.0)\n",
            "Requirement already satisfied: numpy>=1.15.0 in /usr/local/lib/python3.6/dist-packages (from spacy>=2.2.2->en_core_web_sm==2.2.5) (1.18.2)\n",
            "Requirement already satisfied: plac<1.2.0,>=0.9.6 in /usr/local/lib/python3.6/dist-packages (from spacy>=2.2.2->en_core_web_sm==2.2.5) (1.1.3)\n",
            "Requirement already satisfied: blis<0.5.0,>=0.4.0 in /usr/local/lib/python3.6/dist-packages (from spacy>=2.2.2->en_core_web_sm==2.2.5) (0.4.1)\n",
            "Requirement already satisfied: setuptools in /usr/local/lib/python3.6/dist-packages (from spacy>=2.2.2->en_core_web_sm==2.2.5) (46.1.3)\n",
            "Requirement already satisfied: thinc==7.4.0 in /usr/local/lib/python3.6/dist-packages (from spacy>=2.2.2->en_core_web_sm==2.2.5) (7.4.0)\n",
            "Requirement already satisfied: tqdm<5.0.0,>=4.38.0 in /usr/local/lib/python3.6/dist-packages (from spacy>=2.2.2->en_core_web_sm==2.2.5) (4.38.0)\n",
            "Requirement already satisfied: murmurhash<1.1.0,>=0.28.0 in /usr/local/lib/python3.6/dist-packages (from spacy>=2.2.2->en_core_web_sm==2.2.5) (1.0.2)\n",
            "Requirement already satisfied: wasabi<1.1.0,>=0.4.0 in /usr/local/lib/python3.6/dist-packages (from spacy>=2.2.2->en_core_web_sm==2.2.5) (0.6.0)\n",
            "Requirement already satisfied: srsly<1.1.0,>=1.0.2 in /usr/local/lib/python3.6/dist-packages (from spacy>=2.2.2->en_core_web_sm==2.2.5) (1.0.2)\n",
            "Requirement already satisfied: certifi>=2017.4.17 in /usr/local/lib/python3.6/dist-packages (from requests<3.0.0,>=2.13.0->spacy>=2.2.2->en_core_web_sm==2.2.5) (2020.4.5.1)\n",
            "Requirement already satisfied: chardet<3.1.0,>=3.0.2 in /usr/local/lib/python3.6/dist-packages (from requests<3.0.0,>=2.13.0->spacy>=2.2.2->en_core_web_sm==2.2.5) (3.0.4)\n",
            "Requirement already satisfied: urllib3<1.25,>=1.21.1 in /usr/local/lib/python3.6/dist-packages (from requests<3.0.0,>=2.13.0->spacy>=2.2.2->en_core_web_sm==2.2.5) (1.24.3)\n",
            "Requirement already satisfied: idna<2.9,>=2.5 in /usr/local/lib/python3.6/dist-packages (from requests<3.0.0,>=2.13.0->spacy>=2.2.2->en_core_web_sm==2.2.5) (2.8)\n",
            "Requirement already satisfied: importlib-metadata>=0.20; python_version < \"3.8\" in /usr/local/lib/python3.6/dist-packages (from catalogue<1.1.0,>=0.0.7->spacy>=2.2.2->en_core_web_sm==2.2.5) (1.6.0)\n",
            "Requirement already satisfied: zipp>=0.5 in /usr/local/lib/python3.6/dist-packages (from importlib-metadata>=0.20; python_version < \"3.8\"->catalogue<1.1.0,>=0.0.7->spacy>=2.2.2->en_core_web_sm==2.2.5) (3.1.0)\n",
            "\u001b[38;5;2m✔ Download and installation successful\u001b[0m\n",
            "You can now load the model via spacy.load('en_core_web_sm')\n",
            "\u001b[38;5;2m✔ Linking successful\u001b[0m\n",
            "/usr/local/lib/python3.6/dist-packages/en_core_web_sm -->\n",
            "/usr/local/lib/python3.6/dist-packages/spacy/data/en\n",
            "You can now load the model via spacy.load('en')\n"
          ],
          "name": "stdout"
        }
      ]
    },
    {
      "cell_type": "code",
      "metadata": {
        "id": "s6UxJKcHZZQu",
        "colab_type": "code",
        "outputId": "8f7d0108-9597-4a0c-d20b-f16ff4d3f0d9",
        "colab": {
          "base_uri": "https://localhost:8080/",
          "height": 182
        }
      },
      "source": [
        "!./download_models.sh"
      ],
      "execution_count": 0,
      "outputs": [
        {
          "output_type": "stream",
          "text": [
            "Downloading Model: subclause_ne_wh_heuristic\n",
            "--2020-04-17 19:10:15--  https://dl.fbaipublicfiles.com/UnsupervisedQA/subclause_ne_wh_heuristic.tar.gz\n",
            "Resolving dl.fbaipublicfiles.com (dl.fbaipublicfiles.com)... 104.22.74.142, 104.22.75.142, 2606:4700:10::6816:4b8e, ...\n",
            "Connecting to dl.fbaipublicfiles.com (dl.fbaipublicfiles.com)|104.22.74.142|:443... connected.\n",
            "HTTP request sent, awaiting response... 200 OK\n",
            "Length: 645948883 (616M) [application/gzip]\n",
            "Saving to: ‘/content/UnsupervisedQA/data/subclause_ne_wh_heuristic.tar.gz’\n",
            "\n",
            " subclause_ne_wh_he  88%[================>   ] 545.71M  7.97MB/s    eta 9s     "
          ],
          "name": "stdout"
        }
      ]
    },
    {
      "cell_type": "code",
      "metadata": {
        "id": "BIvQmmv1Z3ak",
        "colab_type": "code",
        "outputId": "d77996e2-f503-40e7-9324-4d8b049c1aa3",
        "colab": {
          "base_uri": "https://localhost:8080/",
          "height": 306
        }
      },
      "source": [
        "!apt-get install libffi6 libffi-dev"
      ],
      "execution_count": 0,
      "outputs": [
        {
          "output_type": "stream",
          "text": [
            "Reading package lists... Done\n",
            "Building dependency tree       \n",
            "Reading state information... Done\n",
            "libffi6 is already the newest version (3.2.1-8).\n",
            "The following NEW packages will be installed:\n",
            "  libffi-dev\n",
            "0 upgraded, 1 newly installed, 0 to remove and 25 not upgraded.\n",
            "Need to get 156 kB of archives.\n",
            "After this operation, 362 kB of additional disk space will be used.\n",
            "Get:1 http://archive.ubuntu.com/ubuntu bionic/main amd64 libffi-dev amd64 3.2.1-8 [156 kB]\n",
            "Fetched 156 kB in 0s (1,623 kB/s)\n",
            "Selecting previously unselected package libffi-dev:amd64.\n",
            "(Reading database ... 144568 files and directories currently installed.)\n",
            "Preparing to unpack .../libffi-dev_3.2.1-8_amd64.deb ...\n",
            "Unpacking libffi-dev:amd64 (3.2.1-8) ...\n",
            "Setting up libffi-dev:amd64 (3.2.1-8) ...\n",
            "Processing triggers for man-db (2.8.3-2ubuntu0.1) ...\n"
          ],
          "name": "stdout"
        }
      ]
    },
    {
      "cell_type": "code",
      "metadata": {
        "id": "k_QsfHKhZ-N7",
        "colab_type": "code",
        "outputId": "9e51c611-7223-404d-c1a7-e50a2f38bfdd",
        "colab": {
          "base_uri": "https://localhost:8080/",
          "height": 1000
        }
      },
      "source": [
        "!pip install allennlp"
      ],
      "execution_count": 0,
      "outputs": [
        {
          "output_type": "stream",
          "text": [
            "Collecting allennlp\n",
            "\u001b[?25l  Downloading https://files.pythonhosted.org/packages/bb/bb/041115d8bad1447080e5d1e30097c95e4b66e36074277afce8620a61cee3/allennlp-0.9.0-py3-none-any.whl (7.6MB)\n",
            "\u001b[K     |████████████████████████████████| 7.6MB 6.8MB/s \n",
            "\u001b[?25hRequirement already satisfied: requests>=2.18 in /usr/local/lib/python3.6/dist-packages (from allennlp) (2.21.0)\n",
            "Requirement already satisfied: flask>=1.0.2 in /usr/local/lib/python3.6/dist-packages (from allennlp) (1.1.2)\n",
            "Collecting unidecode\n",
            "\u001b[?25l  Downloading https://files.pythonhosted.org/packages/d0/42/d9edfed04228bacea2d824904cae367ee9efd05e6cce7ceaaedd0b0ad964/Unidecode-1.1.1-py2.py3-none-any.whl (238kB)\n",
            "\u001b[K     |████████████████████████████████| 245kB 42.0MB/s \n",
            "\u001b[?25hCollecting tensorboardX>=1.2\n",
            "\u001b[?25l  Downloading https://files.pythonhosted.org/packages/35/f1/5843425495765c8c2dd0784a851a93ef204d314fc87bcc2bbb9f662a3ad1/tensorboardX-2.0-py2.py3-none-any.whl (195kB)\n",
            "\u001b[K     |████████████████████████████████| 204kB 46.5MB/s \n",
            "\u001b[?25hCollecting parsimonious>=0.8.0\n",
            "\u001b[?25l  Downloading https://files.pythonhosted.org/packages/02/fc/067a3f89869a41009e1a7cdfb14725f8ddd246f30f63c645e8ef8a1c56f4/parsimonious-0.8.1.tar.gz (45kB)\n",
            "\u001b[K     |████████████████████████████████| 51kB 7.0MB/s \n",
            "\u001b[?25hCollecting pytorch-transformers==1.1.0\n",
            "\u001b[?25l  Downloading https://files.pythonhosted.org/packages/50/89/ad0d6bb932d0a51793eaabcf1617a36ff530dc9ab9e38f765a35dc293306/pytorch_transformers-1.1.0-py3-none-any.whl (158kB)\n",
            "\u001b[K     |████████████████████████████████| 163kB 36.0MB/s \n",
            "\u001b[?25hCollecting overrides\n",
            "  Downloading https://files.pythonhosted.org/packages/72/dd/ac49f9c69540d7e09210415801a05d0a54d4d0ca8401503c46847dacd3a0/overrides-2.8.0.tar.gz\n",
            "Collecting flaky\n",
            "  Downloading https://files.pythonhosted.org/packages/fe/12/0f169abf1aa07c7edef4855cca53703d2e6b7ecbded7829588ac7e7e3424/flaky-3.6.1-py2.py3-none-any.whl\n",
            "Collecting word2number>=1.1\n",
            "  Downloading https://files.pythonhosted.org/packages/4a/29/a31940c848521f0725f0df6b25dca8917f13a2025b0e8fcbe5d0457e45e6/word2number-1.1.zip\n",
            "Collecting jsonnet>=0.10.0; sys_platform != \"win32\"\n",
            "\u001b[?25l  Downloading https://files.pythonhosted.org/packages/33/b8/a8588d4010f13716a324f55d23999259bad9db2320f4fe919a66b2f651f3/jsonnet-0.15.0.tar.gz (255kB)\n",
            "\u001b[K     |████████████████████████████████| 256kB 43.2MB/s \n",
            "\u001b[?25hRequirement already satisfied: pytest in /usr/local/lib/python3.6/dist-packages (from allennlp) (3.6.4)\n",
            "Requirement already satisfied: tqdm>=4.19 in /usr/local/lib/python3.6/dist-packages (from allennlp) (4.38.0)\n",
            "Requirement already satisfied: matplotlib>=2.2.3 in /usr/local/lib/python3.6/dist-packages (from allennlp) (3.2.1)\n",
            "Collecting numpydoc>=0.8.0\n",
            "  Downloading https://files.pythonhosted.org/packages/b0/70/4d8c3f9f6783a57ac9cc7a076e5610c0cc4a96af543cafc9247ac307fbfe/numpydoc-0.9.2.tar.gz\n",
            "Requirement already satisfied: torch>=1.2.0 in /usr/local/lib/python3.6/dist-packages (from allennlp) (1.4.0)\n",
            "Requirement already satisfied: scipy in /usr/local/lib/python3.6/dist-packages (from allennlp) (1.4.1)\n",
            "Collecting responses>=0.7\n",
            "  Downloading https://files.pythonhosted.org/packages/a5/52/8063322bd9ee6e7921b74fcb730c6ba983ff995ddfabd966bb689e313464/responses-0.10.12-py2.py3-none-any.whl\n",
            "Requirement already satisfied: numpy in /usr/local/lib/python3.6/dist-packages (from allennlp) (1.18.2)\n",
            "Collecting flask-cors>=3.0.7\n",
            "  Downloading https://files.pythonhosted.org/packages/78/38/e68b11daa5d613e3a91e4bf3da76c94ac9ee0d9cd515af9c1ab80d36f709/Flask_Cors-3.0.8-py2.py3-none-any.whl\n",
            "Requirement already satisfied: scikit-learn in /usr/local/lib/python3.6/dist-packages (from allennlp) (0.22.2.post1)\n",
            "Collecting conllu==1.3.1\n",
            "  Downloading https://files.pythonhosted.org/packages/ae/54/b0ae1199f3d01666821b028cd967f7c0ac527ab162af433d3da69242cea2/conllu-1.3.1-py2.py3-none-any.whl\n",
            "Collecting jsonpickle\n",
            "  Downloading https://files.pythonhosted.org/packages/cb/e0/54421447d55bc7304a785be9ec81f28e1e8a8c6619b0e35154ed8f1b7761/jsonpickle-1.4-py2.py3-none-any.whl\n",
            "Collecting gevent>=1.3.6\n",
            "\u001b[?25l  Downloading https://files.pythonhosted.org/packages/a9/95/b53b78b15abbe547bed7381ca9c8319c86d6b646a30d0831e26c307a5fa7/gevent-1.5.0-cp36-cp36m-manylinux2010_x86_64.whl (5.1MB)\n",
            "\u001b[K     |████████████████████████████████| 5.1MB 34.8MB/s \n",
            "\u001b[?25hRequirement already satisfied: sqlparse>=0.2.4 in /usr/local/lib/python3.6/dist-packages (from allennlp) (0.3.1)\n",
            "Requirement already satisfied: boto3 in /usr/local/lib/python3.6/dist-packages (from allennlp) (1.12.39)\n",
            "Requirement already satisfied: nltk in /usr/local/lib/python3.6/dist-packages (from allennlp) (3.2.5)\n",
            "Collecting pytorch-pretrained-bert>=0.6.0\n",
            "\u001b[?25l  Downloading https://files.pythonhosted.org/packages/d7/e0/c08d5553b89973d9a240605b9c12404bcf8227590de62bae27acbcfe076b/pytorch_pretrained_bert-0.6.2-py3-none-any.whl (123kB)\n",
            "\u001b[K     |████████████████████████████████| 133kB 40.1MB/s \n",
            "\u001b[?25hCollecting spacy<2.2,>=2.1.0\n",
            "\u001b[?25l  Downloading https://files.pythonhosted.org/packages/41/5b/e07dd3bf104237bce4b398558b104c8e500333d6f30eabe3fa9685356b7d/spacy-2.1.9-cp36-cp36m-manylinux1_x86_64.whl (30.8MB)\n",
            "\u001b[K     |████████████████████████████████| 30.9MB 80kB/s \n",
            "\u001b[?25hCollecting ftfy\n",
            "\u001b[?25l  Downloading https://files.pythonhosted.org/packages/ec/d8/5e877ac5e827eaa41a7ea8c0dc1d3042e05d7e337604dc2aedb854e7b500/ftfy-5.7.tar.gz (58kB)\n",
            "\u001b[K     |████████████████████████████████| 61kB 8.5MB/s \n",
            "\u001b[?25hRequirement already satisfied: h5py in /usr/local/lib/python3.6/dist-packages (from allennlp) (2.10.0)\n",
            "Requirement already satisfied: editdistance in /usr/local/lib/python3.6/dist-packages (from allennlp) (0.5.3)\n",
            "Requirement already satisfied: pytz>=2017.3 in /usr/local/lib/python3.6/dist-packages (from allennlp) (2018.9)\n",
            "Requirement already satisfied: idna<2.9,>=2.5 in /usr/local/lib/python3.6/dist-packages (from requests>=2.18->allennlp) (2.8)\n",
            "Requirement already satisfied: urllib3<1.25,>=1.21.1 in /usr/local/lib/python3.6/dist-packages (from requests>=2.18->allennlp) (1.24.3)\n",
            "Requirement already satisfied: chardet<3.1.0,>=3.0.2 in /usr/local/lib/python3.6/dist-packages (from requests>=2.18->allennlp) (3.0.4)\n",
            "Requirement already satisfied: certifi>=2017.4.17 in /usr/local/lib/python3.6/dist-packages (from requests>=2.18->allennlp) (2020.4.5.1)\n",
            "Requirement already satisfied: click>=5.1 in /usr/local/lib/python3.6/dist-packages (from flask>=1.0.2->allennlp) (7.1.1)\n",
            "Requirement already satisfied: itsdangerous>=0.24 in /usr/local/lib/python3.6/dist-packages (from flask>=1.0.2->allennlp) (1.1.0)\n",
            "Requirement already satisfied: Werkzeug>=0.15 in /usr/local/lib/python3.6/dist-packages (from flask>=1.0.2->allennlp) (1.0.1)\n",
            "Requirement already satisfied: Jinja2>=2.10.1 in /usr/local/lib/python3.6/dist-packages (from flask>=1.0.2->allennlp) (2.11.2)\n",
            "Requirement already satisfied: protobuf>=3.8.0 in /usr/local/lib/python3.6/dist-packages (from tensorboardX>=1.2->allennlp) (3.10.0)\n",
            "Requirement already satisfied: six in /usr/local/lib/python3.6/dist-packages (from tensorboardX>=1.2->allennlp) (1.12.0)\n",
            "Collecting sentencepiece\n",
            "\u001b[?25l  Downloading https://files.pythonhosted.org/packages/74/f4/2d5214cbf13d06e7cb2c20d84115ca25b53ea76fa1f0ade0e3c9749de214/sentencepiece-0.1.85-cp36-cp36m-manylinux1_x86_64.whl (1.0MB)\n",
            "\u001b[K     |████████████████████████████████| 1.0MB 29.8MB/s \n",
            "\u001b[?25hRequirement already satisfied: regex in /usr/local/lib/python3.6/dist-packages (from pytorch-transformers==1.1.0->allennlp) (2019.12.20)\n",
            "Requirement already satisfied: pluggy<0.8,>=0.5 in /usr/local/lib/python3.6/dist-packages (from pytest->allennlp) (0.7.1)\n",
            "Requirement already satisfied: py>=1.5.0 in /usr/local/lib/python3.6/dist-packages (from pytest->allennlp) (1.8.1)\n",
            "Requirement already satisfied: setuptools in /usr/local/lib/python3.6/dist-packages (from pytest->allennlp) (46.1.3)\n",
            "Requirement already satisfied: more-itertools>=4.0.0 in /usr/local/lib/python3.6/dist-packages (from pytest->allennlp) (8.2.0)\n",
            "Requirement already satisfied: atomicwrites>=1.0 in /usr/local/lib/python3.6/dist-packages (from pytest->allennlp) (1.3.0)\n",
            "Requirement already satisfied: attrs>=17.4.0 in /usr/local/lib/python3.6/dist-packages (from pytest->allennlp) (19.3.0)\n",
            "Requirement already satisfied: python-dateutil>=2.1 in /usr/local/lib/python3.6/dist-packages (from matplotlib>=2.2.3->allennlp) (2.8.1)\n",
            "Requirement already satisfied: pyparsing!=2.0.4,!=2.1.2,!=2.1.6,>=2.0.1 in /usr/local/lib/python3.6/dist-packages (from matplotlib>=2.2.3->allennlp) (2.4.7)\n",
            "Requirement already satisfied: cycler>=0.10 in /usr/local/lib/python3.6/dist-packages (from matplotlib>=2.2.3->allennlp) (0.10.0)\n",
            "Requirement already satisfied: kiwisolver>=1.0.1 in /usr/local/lib/python3.6/dist-packages (from matplotlib>=2.2.3->allennlp) (1.2.0)\n",
            "Requirement already satisfied: sphinx>=1.6.5 in /usr/local/lib/python3.6/dist-packages (from numpydoc>=0.8.0->allennlp) (1.8.5)\n",
            "Requirement already satisfied: joblib>=0.11 in /usr/local/lib/python3.6/dist-packages (from scikit-learn->allennlp) (0.14.1)\n",
            "Requirement already satisfied: importlib-metadata in /usr/local/lib/python3.6/dist-packages (from jsonpickle->allennlp) (1.6.0)\n",
            "Collecting greenlet>=0.4.14; platform_python_implementation == \"CPython\"\n",
            "\u001b[?25l  Downloading https://files.pythonhosted.org/packages/bf/45/142141aa47e01a5779f0fa5a53b81f8379ce8f2b1cd13df7d2f1d751ae42/greenlet-0.4.15-cp36-cp36m-manylinux1_x86_64.whl (41kB)\n",
            "\u001b[K     |████████████████████████████████| 51kB 6.5MB/s \n",
            "\u001b[?25hRequirement already satisfied: botocore<1.16.0,>=1.15.39 in /usr/local/lib/python3.6/dist-packages (from boto3->allennlp) (1.15.39)\n",
            "Requirement already satisfied: jmespath<1.0.0,>=0.7.1 in /usr/local/lib/python3.6/dist-packages (from boto3->allennlp) (0.9.5)\n",
            "Requirement already satisfied: s3transfer<0.4.0,>=0.3.0 in /usr/local/lib/python3.6/dist-packages (from boto3->allennlp) (0.3.3)\n",
            "Requirement already satisfied: cymem<2.1.0,>=2.0.2 in /usr/local/lib/python3.6/dist-packages (from spacy<2.2,>=2.1.0->allennlp) (2.0.3)\n",
            "Collecting plac<1.0.0,>=0.9.6\n",
            "  Downloading https://files.pythonhosted.org/packages/9e/9b/62c60d2f5bc135d2aa1d8c8a86aaf84edb719a59c7f11a4316259e61a298/plac-0.9.6-py2.py3-none-any.whl\n",
            "Collecting blis<0.3.0,>=0.2.2\n",
            "\u001b[?25l  Downloading https://files.pythonhosted.org/packages/34/46/b1d0bb71d308e820ed30316c5f0a017cb5ef5f4324bcbc7da3cf9d3b075c/blis-0.2.4-cp36-cp36m-manylinux1_x86_64.whl (3.2MB)\n",
            "\u001b[K     |████████████████████████████████| 3.2MB 37.6MB/s \n",
            "\u001b[?25hRequirement already satisfied: murmurhash<1.1.0,>=0.28.0 in /usr/local/lib/python3.6/dist-packages (from spacy<2.2,>=2.1.0->allennlp) (1.0.2)\n",
            "Requirement already satisfied: srsly<1.1.0,>=0.0.6 in /usr/local/lib/python3.6/dist-packages (from spacy<2.2,>=2.1.0->allennlp) (1.0.2)\n",
            "Collecting thinc<7.1.0,>=7.0.8\n",
            "\u001b[?25l  Downloading https://files.pythonhosted.org/packages/18/a5/9ace20422e7bb1bdcad31832ea85c52a09900cd4a7ce711246bfb92206ba/thinc-7.0.8-cp36-cp36m-manylinux1_x86_64.whl (2.1MB)\n",
            "\u001b[K     |████████████████████████████████| 2.1MB 32.9MB/s \n",
            "\u001b[?25hRequirement already satisfied: wasabi<1.1.0,>=0.2.0 in /usr/local/lib/python3.6/dist-packages (from spacy<2.2,>=2.1.0->allennlp) (0.6.0)\n",
            "Collecting preshed<2.1.0,>=2.0.1\n",
            "\u001b[?25l  Downloading https://files.pythonhosted.org/packages/20/93/f222fb957764a283203525ef20e62008675fd0a14ffff8cc1b1490147c63/preshed-2.0.1-cp36-cp36m-manylinux1_x86_64.whl (83kB)\n",
            "\u001b[K     |████████████████████████████████| 92kB 10.6MB/s \n",
            "\u001b[?25hRequirement already satisfied: wcwidth in /usr/local/lib/python3.6/dist-packages (from ftfy->allennlp) (0.1.9)\n",
            "Requirement already satisfied: MarkupSafe>=0.23 in /usr/local/lib/python3.6/dist-packages (from Jinja2>=2.10.1->flask>=1.0.2->allennlp) (1.1.1)\n",
            "Requirement already satisfied: docutils>=0.11 in /usr/local/lib/python3.6/dist-packages (from sphinx>=1.6.5->numpydoc>=0.8.0->allennlp) (0.15.2)\n",
            "Requirement already satisfied: alabaster<0.8,>=0.7 in /usr/local/lib/python3.6/dist-packages (from sphinx>=1.6.5->numpydoc>=0.8.0->allennlp) (0.7.12)\n",
            "Requirement already satisfied: sphinxcontrib-websupport in /usr/local/lib/python3.6/dist-packages (from sphinx>=1.6.5->numpydoc>=0.8.0->allennlp) (1.2.1)\n",
            "Requirement already satisfied: snowballstemmer>=1.1 in /usr/local/lib/python3.6/dist-packages (from sphinx>=1.6.5->numpydoc>=0.8.0->allennlp) (2.0.0)\n",
            "Requirement already satisfied: babel!=2.0,>=1.3 in /usr/local/lib/python3.6/dist-packages (from sphinx>=1.6.5->numpydoc>=0.8.0->allennlp) (2.8.0)\n",
            "Requirement already satisfied: packaging in /usr/local/lib/python3.6/dist-packages (from sphinx>=1.6.5->numpydoc>=0.8.0->allennlp) (20.3)\n",
            "Requirement already satisfied: imagesize in /usr/local/lib/python3.6/dist-packages (from sphinx>=1.6.5->numpydoc>=0.8.0->allennlp) (1.2.0)\n",
            "Requirement already satisfied: Pygments>=2.0 in /usr/local/lib/python3.6/dist-packages (from sphinx>=1.6.5->numpydoc>=0.8.0->allennlp) (2.1.3)\n",
            "Requirement already satisfied: zipp>=0.5 in /usr/local/lib/python3.6/dist-packages (from importlib-metadata->jsonpickle->allennlp) (3.1.0)\n",
            "Building wheels for collected packages: parsimonious, overrides, word2number, jsonnet, numpydoc, ftfy\n",
            "  Building wheel for parsimonious (setup.py) ... \u001b[?25l\u001b[?25hdone\n",
            "  Created wheel for parsimonious: filename=parsimonious-0.8.1-cp36-none-any.whl size=42712 sha256=b6c6aa0a7848b22435e438795c031b2d51156514c6f115debfdc58bf03947b9b\n",
            "  Stored in directory: /root/.cache/pip/wheels/b7/8d/e7/a0e74217da5caeb3c1c7689639b6d28ddbf9985b840bc96a9a\n",
            "  Building wheel for overrides (setup.py) ... \u001b[?25l\u001b[?25hdone\n",
            "  Created wheel for overrides: filename=overrides-2.8.0-cp36-none-any.whl size=5609 sha256=589afcb391f6631f7b32342ac2aef6a34f25449cf19dc83b484acec9160ac23f\n",
            "  Stored in directory: /root/.cache/pip/wheels/df/f1/ba/eaf6cd7d284d2f257dc71436ce72d25fd3be5a5813a37794ab\n",
            "  Building wheel for word2number (setup.py) ... \u001b[?25l\u001b[?25hdone\n",
            "  Created wheel for word2number: filename=word2number-1.1-cp36-none-any.whl size=5587 sha256=0dcc1ba6c2c39c7a8a09046d2cf4a6ed58e8ce3b32562244486071226caa1b2b\n",
            "  Stored in directory: /root/.cache/pip/wheels/46/2f/53/5f5c1d275492f2fce1cdab9a9bb12d49286dead829a4078e0e\n",
            "  Building wheel for jsonnet (setup.py) ... \u001b[?25l\u001b[?25hdone\n",
            "  Created wheel for jsonnet: filename=jsonnet-0.15.0-cp36-cp36m-linux_x86_64.whl size=3319803 sha256=26879c8cc5c8fdec34485fdd1d9bb7223c59fbf54b8472a20896b5ce90c6a073\n",
            "  Stored in directory: /root/.cache/pip/wheels/57/63/2e/da89cfe1ba08550bd7262d5d9c027edc313980c3b85b3b0a38\n",
            "  Building wheel for numpydoc (setup.py) ... \u001b[?25l\u001b[?25hdone\n",
            "  Created wheel for numpydoc: filename=numpydoc-0.9.2-cp36-none-any.whl size=31893 sha256=a346c9ec5f37e65b285eeb158230777ae802bb07da44bfbba9bf7c500e8966ea\n",
            "  Stored in directory: /root/.cache/pip/wheels/96/f3/52/25c8e1f40637661d27feebc61dae16b84c7cdd93b8bc3d7486\n",
            "  Building wheel for ftfy (setup.py) ... \u001b[?25l\u001b[?25hdone\n",
            "  Created wheel for ftfy: filename=ftfy-5.7-cp36-none-any.whl size=44593 sha256=9188c71c3145264c3068a189b467328f15548d126bb1711109f9cbc76db3fd0d\n",
            "  Stored in directory: /root/.cache/pip/wheels/8e/da/59/6c8925d571aacade638a0f515960c21c0887af1bfe31908fbf\n",
            "Successfully built parsimonious overrides word2number jsonnet numpydoc ftfy\n",
            "\u001b[31mERROR: en-core-web-sm 2.2.5 has requirement spacy>=2.2.2, but you'll have spacy 2.1.9 which is incompatible.\u001b[0m\n",
            "Installing collected packages: unidecode, tensorboardX, parsimonious, sentencepiece, pytorch-transformers, overrides, flaky, word2number, jsonnet, numpydoc, responses, flask-cors, conllu, jsonpickle, greenlet, gevent, pytorch-pretrained-bert, plac, blis, preshed, thinc, spacy, ftfy, allennlp\n",
            "  Found existing installation: plac 1.1.3\n",
            "    Uninstalling plac-1.1.3:\n",
            "      Successfully uninstalled plac-1.1.3\n",
            "  Found existing installation: blis 0.4.1\n",
            "    Uninstalling blis-0.4.1:\n",
            "      Successfully uninstalled blis-0.4.1\n",
            "  Found existing installation: preshed 3.0.2\n",
            "    Uninstalling preshed-3.0.2:\n",
            "      Successfully uninstalled preshed-3.0.2\n",
            "  Found existing installation: thinc 7.4.0\n",
            "    Uninstalling thinc-7.4.0:\n",
            "      Successfully uninstalled thinc-7.4.0\n",
            "  Found existing installation: spacy 2.2.4\n",
            "    Uninstalling spacy-2.2.4:\n",
            "      Successfully uninstalled spacy-2.2.4\n",
            "Successfully installed allennlp-0.9.0 blis-0.2.4 conllu-1.3.1 flaky-3.6.1 flask-cors-3.0.8 ftfy-5.7 gevent-1.5.0 greenlet-0.4.15 jsonnet-0.15.0 jsonpickle-1.4 numpydoc-0.9.2 overrides-2.8.0 parsimonious-0.8.1 plac-0.9.6 preshed-2.0.1 pytorch-pretrained-bert-0.6.2 pytorch-transformers-1.1.0 responses-0.10.12 sentencepiece-0.1.85 spacy-2.1.9 tensorboardX-2.0 thinc-7.0.8 unidecode-1.1.1 word2number-1.1\n"
          ],
          "name": "stdout"
        }
      ]
    },
    {
      "cell_type": "code",
      "metadata": {
        "id": "1J9xgFGaaAzM",
        "colab_type": "code",
        "outputId": "3c2c4d61-3a83-45ee-febc-ad9c14447bbb",
        "colab": {
          "base_uri": "https://localhost:8080/",
          "height": 360
        }
      },
      "source": [
        "!python -m spacy download en"
      ],
      "execution_count": 0,
      "outputs": [
        {
          "output_type": "stream",
          "text": [
            "Collecting en_core_web_sm==2.1.0\n",
            "\u001b[?25l  Downloading https://github.com/explosion/spacy-models/releases/download/en_core_web_sm-2.1.0/en_core_web_sm-2.1.0.tar.gz (11.1MB)\n",
            "\u001b[K     |████████████████████████████████| 11.1MB 622kB/s \n",
            "\u001b[?25hBuilding wheels for collected packages: en-core-web-sm\n",
            "  Building wheel for en-core-web-sm (setup.py) ... \u001b[?25l\u001b[?25hdone\n",
            "  Created wheel for en-core-web-sm: filename=en_core_web_sm-2.1.0-cp36-none-any.whl size=11074435 sha256=72f42415945c5ad0c0c55730e8a36599c2a23ea731207b7c4312cc6ac199e300\n",
            "  Stored in directory: /tmp/pip-ephem-wheel-cache-6lcq17u3/wheels/39/ea/3b/507f7df78be8631a7a3d7090962194cf55bc1158572c0be77f\n",
            "Successfully built en-core-web-sm\n",
            "Installing collected packages: en-core-web-sm\n",
            "  Found existing installation: en-core-web-sm 2.2.5\n",
            "    Uninstalling en-core-web-sm-2.2.5:\n",
            "      Successfully uninstalled en-core-web-sm-2.2.5\n",
            "Successfully installed en-core-web-sm-2.1.0\n",
            "\u001b[38;5;2m✔ Download and installation successful\u001b[0m\n",
            "You can now load the model via spacy.load('en_core_web_sm')\n",
            "\u001b[38;5;2m✔ Linking successful\u001b[0m\n",
            "/usr/local/lib/python3.6/dist-packages/en_core_web_sm -->\n",
            "/usr/local/lib/python3.6/dist-packages/spacy/data/en\n",
            "You can now load the model via spacy.load('en')\n"
          ],
          "name": "stdout"
        }
      ]
    },
    {
      "cell_type": "code",
      "metadata": {
        "id": "UnbSjS-18izT",
        "colab_type": "code",
        "outputId": "f0db4e8f-35c8-4a61-ed36-e02464402acc",
        "colab": {
          "base_uri": "https://localhost:8080/",
          "height": 51
        }
      },
      "source": [
        "!pip install nltk"
      ],
      "execution_count": 0,
      "outputs": [
        {
          "output_type": "stream",
          "text": [
            "Requirement already satisfied: nltk in /usr/local/lib/python3.6/dist-packages (3.2.5)\n",
            "Requirement already satisfied: six in /usr/local/lib/python3.6/dist-packages (from nltk) (1.12.0)\n"
          ],
          "name": "stdout"
        }
      ]
    },
    {
      "cell_type": "code",
      "metadata": {
        "id": "A1x_nhIHaD1n",
        "colab_type": "code",
        "outputId": "6287d36e-ba14-47bb-f865-aa2929f956ab",
        "colab": {
          "base_uri": "https://localhost:8080/",
          "height": 955
        }
      },
      "source": [
        "!python -m unsupervisedqa.generate_synthetic_qa_data I2c_protocol.txt i2c_out_2_output \\\n",
        "    --input_file_format \"txt\" \\\n",
        "    --output_file_format \"jsonl,squad\" \\\n",
        "    --translation_method noisy_cloze \\\n",
        "    --use_named_entity_clozes \\\n",
        "    --use_subclause_clozes \\\n",
        "    --use_wh_heuristic"
      ],
      "execution_count": 0,
      "outputs": [
        {
          "output_type": "stream",
          "text": [
            "==================================================\n",
            "Parsed 279 paragraphs from I2c_protocol.txt\n",
            "==================================================\n",
            "Running Constituency Parsing:   0%|                       | 0/5 [00:00<?, ?it/s]Your label namespace was 'pos'. We recommend you use a namespace ending with 'labels' or 'tags', so we don't add UNK and PAD tokens by default to your vocabulary.  See documentation for `non_padded_namespaces` parameter in Vocabulary.\n",
            "Running Constituency Parsing: 100%|███████████████| 5/5 [00:03<00:00,  1.25it/s]\n",
            "==================================================\n",
            "71 Cloze questions extracted for Translation\n",
            "==================================================\n",
            "Traceback (most recent call last):\n",
            "  File \"/usr/lib/python3.6/runpy.py\", line 193, in _run_module_as_main\n",
            "    \"__main__\", mod_spec)\n",
            "  File \"/usr/lib/python3.6/runpy.py\", line 85, in _run_code\n",
            "    exec(code, run_globals)\n",
            "  File \"/content/UnsupervisedQA/unsupervisedqa/generate_synthetic_qa_data.py\", line 165, in <module>\n",
            "    generate_synthetic_training_data(args)\n",
            "  File \"/content/UnsupervisedQA/unsupervisedqa/generate_synthetic_qa_data.py\", line 113, in generate_synthetic_training_data\n",
            "    args.translation_method\n",
            "  File \"/content/UnsupervisedQA/unsupervisedqa/generate_synthetic_qa_data.py\", line 71, in get_questions_for_clozes\n",
            "    clozes_with_questions = [attr.evolve(c, question_text=noisy_cloze_translation(c, wh_heuristic)) for c in clozes]\n",
            "  File \"/content/UnsupervisedQA/unsupervisedqa/generate_synthetic_qa_data.py\", line 71, in <listcomp>\n",
            "    clozes_with_questions = [attr.evolve(c, question_text=noisy_cloze_translation(c, wh_heuristic)) for c in clozes]\n",
            "  File \"/content/UnsupervisedQA/unsupervisedqa/baseline_translators.py\", line 75, in noisy_cloze_translation\n",
            "    cloze_no_mask_tokens = _tokenize(cloze_no_mask)\n",
            "  File \"/content/UnsupervisedQA/unsupervisedqa/baseline_translators.py\", line 25, in _tokenize\n",
            "    return nltk.word_tokenize(x)\n",
            "  File \"/usr/local/lib/python3.6/dist-packages/nltk/tokenize/__init__.py\", line 128, in word_tokenize\n",
            "    sentences = [text] if preserve_line else sent_tokenize(text, language)\n",
            "  File \"/usr/local/lib/python3.6/dist-packages/nltk/tokenize/__init__.py\", line 94, in sent_tokenize\n",
            "    tokenizer = load('tokenizers/punkt/{0}.pickle'.format(language))\n",
            "  File \"/usr/local/lib/python3.6/dist-packages/nltk/data.py\", line 834, in load\n",
            "    opened_resource = _open(resource_url)\n",
            "  File \"/usr/local/lib/python3.6/dist-packages/nltk/data.py\", line 952, in _open\n",
            "    return find(path_, path + ['']).open()\n",
            "  File \"/usr/local/lib/python3.6/dist-packages/nltk/data.py\", line 673, in find\n",
            "    raise LookupError(resource_not_found)\n",
            "LookupError: \n",
            "**********************************************************************\n",
            "  Resource \u001b[93mpunkt\u001b[0m not found.\n",
            "  Please use the NLTK Downloader to obtain the resource:\n",
            "\n",
            "  \u001b[31m>>> import nltk\n",
            "  >>> nltk.download('punkt')\n",
            "  \u001b[0m\n",
            "  Searched in:\n",
            "    - '/root/nltk_data'\n",
            "    - '/usr/share/nltk_data'\n",
            "    - '/usr/local/share/nltk_data'\n",
            "    - '/usr/lib/nltk_data'\n",
            "    - '/usr/local/lib/nltk_data'\n",
            "    - '/usr/nltk_data'\n",
            "    - '/usr/lib/nltk_data'\n",
            "    - ''\n",
            "**********************************************************************\n",
            "\n"
          ],
          "name": "stdout"
        }
      ]
    }
  ]
}